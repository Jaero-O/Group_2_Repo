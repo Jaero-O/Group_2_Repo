{
 "cells": [
  {
   "cell_type": "markdown",
   "id": "9cb5a4eb",
   "metadata": {},
   "source": [
    "Split the Dataset into 70% Training, 20% Vaidation and 10% Testing"
   ]
  },
  {
   "cell_type": "code",
   "execution_count": 2,
   "id": "2a5e7efa",
   "metadata": {},
   "outputs": [],
   "source": [
    "import splitfolders  # install via: pip install split-folders\n",
    "\n",
    "input_folder = \"../dataset\"   # your dataset with disease folders\n",
    "output_folder = \"../data\"     # new folder for split dataset\n",
    "\n",
    "# Split into 70% train, 20% val, 10% test\n",
    "splitfolders.ratio(input_folder, output=output_folder, seed=42, ratio=(0.7, 0.2, 0.1))"
   ]
  },
  {
   "cell_type": "code",
   "execution_count": 19,
   "id": "0ddf3e66",
   "metadata": {},
   "outputs": [
    {
     "name": "stdout",
     "output_type": "stream",
     "text": [
      "Anthracnose: 1000 -> 700 train, 200 valid, 100 test\n",
      "Healthy: 1000 -> 700 train, 200 valid, 100 test\n",
      "OtherDisease: 999 -> 700 train, 200 valid, 100 test\n",
      "✅ Finished creating fresh balanced dataset with 3 classes (500 each)!\n"
     ]
    }
   ],
   "source": [
    "import os\n",
    "import shutil\n",
    "import random\n",
    "\n",
    "# Source dataset (your current folder with Anthracnose, Healthy, OtherDisease)\n",
    "source_dir = \"../../Database/Mango Dataset A Comprehensive Resource for Agricultural Research and Disease Detection/Augmented Mango dataset\"\n",
    "\n",
    "# Destination dataset (new balanced split dataset)\n",
    "dest_dir = \"../data\"\n",
    "\n",
    "# Splits (70/20/10)\n",
    "splits = {\"train\": 0.7, \"valid\": 0.2, \"test\": 0.1}\n",
    "\n",
    "# Final number of images per class\n",
    "N_PER_CLASS = 1000\n",
    "\n",
    "# 🔥 Clean old dataset if it exists\n",
    "if os.path.exists(dest_dir):\n",
    "    shutil.rmtree(dest_dir)\n",
    "\n",
    "# Create destination folders again\n",
    "for split in splits.keys():\n",
    "    for cls in [\"Anthracnose\", \"Healthy\", \"OtherDisease\"]:\n",
    "        os.makedirs(os.path.join(dest_dir, split, cls), exist_ok=True)\n",
    "\n",
    "# Helper to copy images\n",
    "def copy_images(images, cls, split):\n",
    "    split_dir = os.path.join(dest_dir, split, cls)\n",
    "    for img in images:\n",
    "        shutil.copy(img, split_dir)\n",
    "\n",
    "# Process Anthracnose and Healthy\n",
    "for cls in [\"Anthracnose\", \"Healthy\"]:\n",
    "    cls_path = os.path.join(source_dir, cls)\n",
    "    images = [os.path.join(cls_path, img) for img in os.listdir(cls_path)]\n",
    "    random.shuffle(images)\n",
    "    images = images[:N_PER_CLASS]  # pick exactly 500\n",
    "    \n",
    "    # Split\n",
    "    n_train = int(N_PER_CLASS * splits[\"train\"])\n",
    "    n_valid = int(N_PER_CLASS * splits[\"valid\"])\n",
    "    \n",
    "    copy_images(images[:n_train], cls, \"train\")\n",
    "    copy_images(images[n_train:n_train+n_valid], cls, \"valid\")\n",
    "    copy_images(images[n_train+n_valid:], cls, \"test\")\n",
    "    \n",
    "    print(f\"{cls}: {len(images)} -> {n_train} train, {n_valid} valid, {N_PER_CLASS - n_train - n_valid} test\")\n",
    "\n",
    "# Process OtherDisease (merge equally from subfolders)\n",
    "other_path = os.path.join(source_dir, \"OtherDisease\")\n",
    "subfolders = [os.path.join(other_path, d) for d in os.listdir(other_path) if os.path.isdir(os.path.join(other_path, d))]\n",
    "\n",
    "per_disease = N_PER_CLASS // len(subfolders)  # equal number per sub-disease\n",
    "other_images = []\n",
    "\n",
    "for sub in subfolders:\n",
    "    imgs = os.listdir(sub)\n",
    "    random.shuffle(imgs)\n",
    "    imgs = [os.path.join(sub, img) for img in imgs[:per_disease]]\n",
    "    other_images.extend(imgs)\n",
    "\n",
    "random.shuffle(other_images)\n",
    "\n",
    "# Split OtherDisease\n",
    "n_train = int(N_PER_CLASS * splits[\"train\"])\n",
    "n_valid = int(N_PER_CLASS * splits[\"valid\"])\n",
    "\n",
    "copy_images(other_images[:n_train], \"OtherDisease\", \"train\")\n",
    "copy_images(other_images[n_train:n_train+n_valid], \"OtherDisease\", \"valid\")\n",
    "copy_images(other_images[n_train+n_valid:], \"OtherDisease\", \"test\")\n",
    "\n",
    "print(f\"OtherDisease: {len(other_images)} -> {n_train} train, {n_valid} valid, {N_PER_CLASS - n_train - n_valid} test\")\n",
    "\n",
    "print(\"✅ Finished creating fresh balanced dataset with 3 classes (500 each)!\")\n"
   ]
  },
  {
   "cell_type": "code",
   "execution_count": 15,
   "id": "f77c3da7",
   "metadata": {},
   "outputs": [
    {
     "name": "stdout",
     "output_type": "stream",
     "text": [
      "Anthracnose -> 500\n",
      "Healthy -> 500\n",
      "OtherDisease -> 0\n"
     ]
    }
   ],
   "source": [
    "for cls in [\"Anthracnose\", \"Healthy\", \"OtherDisease\"]:\n",
    "    files = os.listdir(f\"../../Database/dataset/{cls}\")\n",
    "    print(cls, \"->\", len([f for f in files if f.lower().endswith(('.png','.jpg','.jpeg'))]))"
   ]
  }
 ],
 "metadata": {
  "kernelspec": {
   "display_name": "tf2.10-py310",
   "language": "python",
   "name": "python3"
  },
  "language_info": {
   "codemirror_mode": {
    "name": "ipython",
    "version": 3
   },
   "file_extension": ".py",
   "mimetype": "text/x-python",
   "name": "python",
   "nbconvert_exporter": "python",
   "pygments_lexer": "ipython3",
   "version": "3.10.18"
  }
 },
 "nbformat": 4,
 "nbformat_minor": 5
}
